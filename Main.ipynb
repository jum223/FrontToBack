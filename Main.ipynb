{
 "cells": [
  {
   "cell_type": "markdown",
   "id": "5c3a2611-06dd-4053-b069-41383934eb06",
   "metadata": {},
   "source": [
    "# Main Sample"
   ]
  },
  {
   "cell_type": "markdown",
   "id": "f00f82e9-4676-4250-8749-54349accf148",
   "metadata": {},
   "source": [
    "# Retrieving firms and creating firm list"
   ]
  },
  {
   "cell_type": "code",
   "execution_count": 1,
   "id": "291f8224-eda6-4cf5-8a4d-16568fd04256",
   "metadata": {},
   "outputs": [],
   "source": [
    "import pandas as pd\n",
    "import numpy as np\n",
    "import pandas_datareader as pdr\n",
    "import yfinance as yf\n",
    "from datetime import datetime\n",
    "import warnings\n",
    "warnings.filterwarnings(\"ignore\")"
   ]
  },
  {
   "cell_type": "code",
   "execution_count": 2,
   "id": "60560d91-edcc-476d-a80a-147a0486b982",
   "metadata": {},
   "outputs": [],
   "source": [
    "metal = pd.read_csv(\"Data/Metal.csv\")\n",
    "metal = metal.iloc[:17]\n",
    "metal = metal[[\"Company\", \"Ticker\"]]\n",
    "metal_firm = metal[\"Ticker\"].tolist()"
   ]
  },
  {
   "cell_type": "code",
   "execution_count": 3,
   "id": "00519b1c-b1eb-40ec-942f-aa9bae1c5dce",
   "metadata": {
    "tags": []
   },
   "outputs": [],
   "source": [
    "energy = pd.read_csv(\"Data/Energy.csv\")\n",
    "energy = energy[[\"HOLDINGS\", \"TICKER\"]]\n",
    "energy_firm = energy[\"TICKER\"].tolist()"
   ]
  },
  {
   "cell_type": "code",
   "execution_count": 4,
   "id": "ffbe54d9-bba2-4b33-a3e9-a89a8255cf16",
   "metadata": {},
   "outputs": [],
   "source": [
    "micro = pd.read_csv(\"Data/Microchips.csv\")\n",
    "micro = micro.iloc[:38]\n",
    "micro = micro[[\"Name\", \"Ticker\"]]\n",
    "micro_firm = micro[\"Ticker\"].tolist()"
   ]
  },
  {
   "cell_type": "code",
   "execution_count": 5,
   "id": "d44d8a94-3cb4-4b48-b0c1-80c6a26bcce9",
   "metadata": {},
   "outputs": [],
   "source": [
    "trans = pd.read_csv(\"Data/Transport.csv\")\n",
    "trans = trans.iloc[:47]\n",
    "trans = trans[[\"Name\", \"Ticker\"]]\n",
    "trans_firm = trans[\"Ticker\"].tolist()"
   ]
  },
  {
   "cell_type": "code",
   "execution_count": 6,
   "id": "2670f05a-6709-4e93-9f67-b4853b150b02",
   "metadata": {
    "tags": []
   },
   "outputs": [],
   "source": [
    "food = pd.read_csv(\"Data/Food.csv\")\n",
    "food = food[[\"SecurityName\", \"Identifier\"]]\n",
    "food_firm = food[\"Identifier\"].tolist()"
   ]
  },
  {
   "cell_type": "markdown",
   "id": "f4a5922b-9967-4195-be4b-f0338cbab823",
   "metadata": {},
   "source": [
    "# Downloading stock prices"
   ]
  },
  {
   "cell_type": "code",
   "execution_count": 7,
   "id": "b53cfedf-5e75-4440-89a6-96982bf4c9bf",
   "metadata": {},
   "outputs": [
    {
     "name": "stdout",
     "output_type": "stream",
     "text": [
      "[*********************100%***********************]  17 of 17 completed\n",
      "[*********************100%***********************]  112 of 112 completed\n",
      "[*********************100%***********************]  38 of 38 completed\n",
      "[*********************100%***********************]  47 of 47 completed\n",
      "[*********************100%***********************]  30 of 30 completed\n"
     ]
    }
   ],
   "source": [
    "start_date = datetime(2022, 2, 1)\n",
    "end_date = datetime(2023, 3, 10)\n",
    "\n",
    "\n",
    "metal_stocks = yf.download(metal_firm, start=start_date, end=end_date)\n",
    "energy_stocks = yf.download(energy_firm,start=start_date,end=end_date)\n",
    "micro_stocks = yf.download(micro_firm,start=start_date,end=end_date)\n",
    "trans_stocks = yf.download(trans_firm,start=start_date,end=end_date)\n",
    "food_stocks = yf.download(food_firm,start=start_date,end=end_date)"
   ]
  },
  {
   "cell_type": "markdown",
   "id": "54af3b77-e341-4d45-8be2-a68c31790727",
   "metadata": {},
   "source": [
    "# Cleaning stock data converting to table"
   ]
  },
  {
   "cell_type": "code",
   "execution_count": 8,
   "id": "cf17b28c-48e5-4ff1-a6be-de16d360a045",
   "metadata": {},
   "outputs": [],
   "source": [
    "metal_prices = metal_stocks.filter(like='Adj Close')               \n",
    "metal_prices.columns = metal_prices.columns.get_level_values(1)    \n",
    "metal_prices =  metal_prices.stack().swaplevel().sort_index().reset_index()\n",
    "metal_prices.columns = ['Firm','Date','Adj Close']"
   ]
  },
  {
   "cell_type": "code",
   "execution_count": 9,
   "id": "feedb090-5aab-4376-916d-f2674c3f51d7",
   "metadata": {},
   "outputs": [],
   "source": [
    "energy_prices = energy_stocks.filter(like='Adj Close')               \n",
    "energy_prices.columns = energy_prices.columns.get_level_values(1)    \n",
    "energy_prices =  energy_prices.stack().swaplevel().sort_index().reset_index()\n",
    "energy_prices.columns = ['Firm','Date','Adj Close']"
   ]
  },
  {
   "cell_type": "code",
   "execution_count": 10,
   "id": "6cc61da4-796b-4995-bdf1-3d5ad210ad06",
   "metadata": {},
   "outputs": [],
   "source": [
    "micro_prices = micro_stocks.filter(like='Adj Close')               \n",
    "micro_prices.columns = micro_prices.columns.get_level_values(1)    \n",
    "micro_prices =  micro_prices.stack().swaplevel().sort_index().reset_index()\n",
    "micro_prices.columns = ['Firm','Date','Adj Close']"
   ]
  },
  {
   "cell_type": "code",
   "execution_count": 11,
   "id": "b32d5ecd-cb84-4e8d-983f-a37528ae1245",
   "metadata": {},
   "outputs": [],
   "source": [
    "trans_prices = trans_stocks.filter(like='Adj Close')               \n",
    "trans_prices.columns = trans_prices.columns.get_level_values(1)    \n",
    "trans_prices =  trans_prices.stack().swaplevel().sort_index().reset_index()\n",
    "trans_prices.columns = ['Firm','Date','Adj Close']"
   ]
  },
  {
   "cell_type": "code",
   "execution_count": 12,
   "id": "14911911-c359-4909-b1b2-2f1533535ec2",
   "metadata": {},
   "outputs": [],
   "source": [
    "food_prices = food_stocks.filter(like='Adj Close')               \n",
    "food_prices.columns = food_prices.columns.get_level_values(1)    \n",
    "food_prices =  food_prices.stack().swaplevel().sort_index().reset_index()\n",
    "food_prices.columns = ['Firm','Date','Adj Close']"
   ]
  },
  {
   "cell_type": "markdown",
   "id": "3cbe8179-77b9-4d65-9ce1-a5ad305338d4",
   "metadata": {},
   "source": [
    "# Getting daily returns"
   ]
  },
  {
   "cell_type": "code",
   "execution_count": 13,
   "id": "2faf051a-9b8a-4079-a6f7-275afc2ca41b",
   "metadata": {},
   "outputs": [],
   "source": [
    "metal_prices = metal_prices.sort_values(['Firm', 'Date'])\n",
    "metal_prices['Daily Returns'] = metal_prices.groupby('Firm')['Adj Close'].pct_change()"
   ]
  },
  {
   "cell_type": "code",
   "execution_count": 14,
   "id": "ed08f1ad-add9-4019-bcb2-4ed30b3959a2",
   "metadata": {},
   "outputs": [],
   "source": [
    "energy_prices = energy_prices.sort_values(['Firm', 'Date'])\n",
    "energy_prices['Daily Returns'] = energy_prices.groupby('Firm')['Adj Close'].pct_change()"
   ]
  },
  {
   "cell_type": "code",
   "execution_count": 15,
   "id": "6fe1bf20-c4b7-44d3-803a-38b4d6caaf83",
   "metadata": {},
   "outputs": [],
   "source": [
    "micro_prices = micro_prices.sort_values(['Firm', 'Date'])\n",
    "micro_prices['Daily Returns'] = micro_prices.groupby('Firm')['Adj Close'].pct_change()"
   ]
  },
  {
   "cell_type": "code",
   "execution_count": 16,
   "id": "960160eb-6eb2-4bc3-bf1a-35512caad93c",
   "metadata": {},
   "outputs": [],
   "source": [
    "trans_prices = trans_prices.sort_values(['Firm', 'Date'])\n",
    "trans_prices['Daily Returns'] = trans_prices.groupby('Firm')['Adj Close'].pct_change()"
   ]
  },
  {
   "cell_type": "code",
   "execution_count": 17,
   "id": "99129130-331f-4055-9a0c-18d09ac562dc",
   "metadata": {},
   "outputs": [],
   "source": [
    "food_prices = food_prices.sort_values(['Firm', 'Date'])\n",
    "food_prices['Daily Returns'] = food_prices.groupby('Firm')['Adj Close'].pct_change()"
   ]
  },
  {
   "cell_type": "markdown",
   "id": "0df824af-72fa-4191-90f1-195ae00151dd",
   "metadata": {},
   "source": [
    "# Downloading SP500 Returns"
   ]
  },
  {
   "cell_type": "code",
   "execution_count": 18,
   "id": "856a152d-2f69-40da-924e-8cca92b27332",
   "metadata": {},
   "outputs": [
    {
     "name": "stdout",
     "output_type": "stream",
     "text": [
      "[*********************100%***********************]  1 of 1 completed\n"
     ]
    },
    {
     "data": {
      "text/html": [
       "<div>\n",
       "<style scoped>\n",
       "    .dataframe tbody tr th:only-of-type {\n",
       "        vertical-align: middle;\n",
       "    }\n",
       "\n",
       "    .dataframe tbody tr th {\n",
       "        vertical-align: top;\n",
       "    }\n",
       "\n",
       "    .dataframe thead th {\n",
       "        text-align: right;\n",
       "    }\n",
       "</style>\n",
       "<table border=\"1\" class=\"dataframe\">\n",
       "  <thead>\n",
       "    <tr style=\"text-align: right;\">\n",
       "      <th></th>\n",
       "      <th>Firm</th>\n",
       "      <th>Date</th>\n",
       "      <th>Adj Close</th>\n",
       "      <th>Daily Returns</th>\n",
       "    </tr>\n",
       "  </thead>\n",
       "  <tbody>\n",
       "    <tr>\n",
       "      <th>0</th>\n",
       "      <td>sp500</td>\n",
       "      <td>2022-02-01</td>\n",
       "      <td>4546.540039</td>\n",
       "      <td>NaN</td>\n",
       "    </tr>\n",
       "    <tr>\n",
       "      <th>1</th>\n",
       "      <td>sp500</td>\n",
       "      <td>2022-02-02</td>\n",
       "      <td>4589.379883</td>\n",
       "      <td>0.009423</td>\n",
       "    </tr>\n",
       "    <tr>\n",
       "      <th>2</th>\n",
       "      <td>sp500</td>\n",
       "      <td>2022-02-03</td>\n",
       "      <td>4477.439941</td>\n",
       "      <td>-0.024391</td>\n",
       "    </tr>\n",
       "    <tr>\n",
       "      <th>3</th>\n",
       "      <td>sp500</td>\n",
       "      <td>2022-02-04</td>\n",
       "      <td>4500.529785</td>\n",
       "      <td>0.005157</td>\n",
       "    </tr>\n",
       "    <tr>\n",
       "      <th>4</th>\n",
       "      <td>sp500</td>\n",
       "      <td>2022-02-07</td>\n",
       "      <td>4483.870117</td>\n",
       "      <td>-0.003702</td>\n",
       "    </tr>\n",
       "    <tr>\n",
       "      <th>...</th>\n",
       "      <td>...</td>\n",
       "      <td>...</td>\n",
       "      <td>...</td>\n",
       "      <td>...</td>\n",
       "    </tr>\n",
       "    <tr>\n",
       "      <th>272</th>\n",
       "      <td>sp500</td>\n",
       "      <td>2023-03-03</td>\n",
       "      <td>4045.639893</td>\n",
       "      <td>0.016148</td>\n",
       "    </tr>\n",
       "    <tr>\n",
       "      <th>273</th>\n",
       "      <td>sp500</td>\n",
       "      <td>2023-03-06</td>\n",
       "      <td>4048.419922</td>\n",
       "      <td>0.000687</td>\n",
       "    </tr>\n",
       "    <tr>\n",
       "      <th>274</th>\n",
       "      <td>sp500</td>\n",
       "      <td>2023-03-07</td>\n",
       "      <td>3986.370117</td>\n",
       "      <td>-0.015327</td>\n",
       "    </tr>\n",
       "    <tr>\n",
       "      <th>275</th>\n",
       "      <td>sp500</td>\n",
       "      <td>2023-03-08</td>\n",
       "      <td>3992.010010</td>\n",
       "      <td>0.001415</td>\n",
       "    </tr>\n",
       "    <tr>\n",
       "      <th>276</th>\n",
       "      <td>sp500</td>\n",
       "      <td>2023-03-09</td>\n",
       "      <td>3918.320068</td>\n",
       "      <td>-0.018459</td>\n",
       "    </tr>\n",
       "  </tbody>\n",
       "</table>\n",
       "<p>277 rows × 4 columns</p>\n",
       "</div>"
      ],
      "text/plain": [
       "      Firm       Date    Adj Close  Daily Returns\n",
       "0    sp500 2022-02-01  4546.540039            NaN\n",
       "1    sp500 2022-02-02  4589.379883       0.009423\n",
       "2    sp500 2022-02-03  4477.439941      -0.024391\n",
       "3    sp500 2022-02-04  4500.529785       0.005157\n",
       "4    sp500 2022-02-07  4483.870117      -0.003702\n",
       "..     ...        ...          ...            ...\n",
       "272  sp500 2023-03-03  4045.639893       0.016148\n",
       "273  sp500 2023-03-06  4048.419922       0.000687\n",
       "274  sp500 2023-03-07  3986.370117      -0.015327\n",
       "275  sp500 2023-03-08  3992.010010       0.001415\n",
       "276  sp500 2023-03-09  3918.320068      -0.018459\n",
       "\n",
       "[277 rows x 4 columns]"
      ]
     },
     "execution_count": 18,
     "metadata": {},
     "output_type": "execute_result"
    }
   ],
   "source": [
    "spy = yf.download('^GSPC', start=start_date, end=end_date)\n",
    "market_ret = spy.filter(like='Adj Close')               \n",
    "market_ret = market_ret.stack().swaplevel().sort_index().reset_index()\n",
    "market_ret.columns = ['Firm','Date','Adj Close']\n",
    "market_ret['Firm'] = \"sp500\"\n",
    "market_ret['Daily Returns'] = market_ret['Adj Close'].pct_change()\n",
    "market_ret"
   ]
  },
  {
   "cell_type": "code",
   "execution_count": 19,
   "id": "1b270587-c0ff-4f87-b6e7-b36531369e43",
   "metadata": {
    "jupyter": {
     "source_hidden": true
    },
    "tags": []
   },
   "outputs": [
    {
     "data": {
      "text/html": [
       "<div>\n",
       "<style scoped>\n",
       "    .dataframe tbody tr th:only-of-type {\n",
       "        vertical-align: middle;\n",
       "    }\n",
       "\n",
       "    .dataframe tbody tr th {\n",
       "        vertical-align: top;\n",
       "    }\n",
       "\n",
       "    .dataframe thead th {\n",
       "        text-align: right;\n",
       "    }\n",
       "</style>\n",
       "<table border=\"1\" class=\"dataframe\">\n",
       "  <thead>\n",
       "    <tr style=\"text-align: right;\">\n",
       "      <th></th>\n",
       "      <th>Date</th>\n",
       "      <th>Event</th>\n",
       "    </tr>\n",
       "  </thead>\n",
       "  <tbody>\n",
       "    <tr>\n",
       "      <th>0</th>\n",
       "      <td>2022-02-24</td>\n",
       "      <td>Invasion Announcement</td>\n",
       "    </tr>\n",
       "    <tr>\n",
       "      <th>1</th>\n",
       "      <td>2022-02-25</td>\n",
       "      <td>Ukraine announces it will defend its territory</td>\n",
       "    </tr>\n",
       "    <tr>\n",
       "      <th>2</th>\n",
       "      <td>2022-03-02</td>\n",
       "      <td>Refugee Crisis in Poland</td>\n",
       "    </tr>\n",
       "    <tr>\n",
       "      <th>3</th>\n",
       "      <td>2022-03-06</td>\n",
       "      <td>Irpin Bridge Evacuation</td>\n",
       "    </tr>\n",
       "    <tr>\n",
       "      <th>4</th>\n",
       "      <td>2022-03-09</td>\n",
       "      <td>Mariupol Hospital Attack</td>\n",
       "    </tr>\n",
       "    <tr>\n",
       "      <th>5</th>\n",
       "      <td>2022-03-16</td>\n",
       "      <td>Mariupol Theater Bombing</td>\n",
       "    </tr>\n",
       "    <tr>\n",
       "      <th>6</th>\n",
       "      <td>2022-04-01</td>\n",
       "      <td>War crimes uncovered</td>\n",
       "    </tr>\n",
       "    <tr>\n",
       "      <th>7</th>\n",
       "      <td>2022-04-14</td>\n",
       "      <td>Sunking of Russian main ship</td>\n",
       "    </tr>\n",
       "    <tr>\n",
       "      <th>8</th>\n",
       "      <td>2022-05-17</td>\n",
       "      <td>Mariupol Steel Plant Defence</td>\n",
       "    </tr>\n",
       "    <tr>\n",
       "      <th>9</th>\n",
       "      <td>2022-09-01</td>\n",
       "      <td>Russian retreat from Kharkiv</td>\n",
       "    </tr>\n",
       "    <tr>\n",
       "      <th>10</th>\n",
       "      <td>2022-09-21</td>\n",
       "      <td>Russia starts mobilization</td>\n",
       "    </tr>\n",
       "    <tr>\n",
       "      <th>11</th>\n",
       "      <td>2022-10-08</td>\n",
       "      <td>Crimea Bridge Attack</td>\n",
       "    </tr>\n",
       "    <tr>\n",
       "      <th>12</th>\n",
       "      <td>2022-10-10</td>\n",
       "      <td>Kyiv Blackout</td>\n",
       "    </tr>\n",
       "    <tr>\n",
       "      <th>13</th>\n",
       "      <td>2022-11-12</td>\n",
       "      <td>Kherson city liberation</td>\n",
       "    </tr>\n",
       "    <tr>\n",
       "      <th>14</th>\n",
       "      <td>2022-12-21</td>\n",
       "      <td>Zelensky visits White House</td>\n",
       "    </tr>\n",
       "    <tr>\n",
       "      <th>15</th>\n",
       "      <td>2023-01-25</td>\n",
       "      <td>Germany sends tanks</td>\n",
       "    </tr>\n",
       "    <tr>\n",
       "      <th>16</th>\n",
       "      <td>2023-02-20</td>\n",
       "      <td>Biden visits Kyiv</td>\n",
       "    </tr>\n",
       "  </tbody>\n",
       "</table>\n",
       "</div>"
      ],
      "text/plain": [
       "         Date                                           Event\n",
       "0  2022-02-24                           Invasion Announcement\n",
       "1  2022-02-25  Ukraine announces it will defend its territory\n",
       "2  2022-03-02                        Refugee Crisis in Poland\n",
       "3  2022-03-06                         Irpin Bridge Evacuation\n",
       "4  2022-03-09                        Mariupol Hospital Attack\n",
       "5  2022-03-16                        Mariupol Theater Bombing\n",
       "6  2022-04-01                            War crimes uncovered\n",
       "7  2022-04-14                    Sunking of Russian main ship\n",
       "8  2022-05-17                    Mariupol Steel Plant Defence\n",
       "9  2022-09-01                    Russian retreat from Kharkiv\n",
       "10 2022-09-21                      Russia starts mobilization\n",
       "11 2022-10-08                            Crimea Bridge Attack\n",
       "12 2022-10-10                                   Kyiv Blackout\n",
       "13 2022-11-12                         Kherson city liberation\n",
       "14 2022-12-21                     Zelensky visits White House\n",
       "15 2023-01-25                             Germany sends tanks\n",
       "16 2023-02-20                               Biden visits Kyiv"
      ]
     },
     "execution_count": 19,
     "metadata": {},
     "output_type": "execute_result"
    }
   ],
   "source": [
    "event_date = pd.read_csv(\"Data/MajorEvents.csv\")\n",
    "event_date['Date'] = pd.to_datetime(event_date['Date'])\n",
    "event_date"
   ]
  },
  {
   "cell_type": "markdown",
   "id": "66ff7c55-4238-4508-82f4-0e40f1086a46",
   "metadata": {},
   "source": [
    "# Calculation of excess returns for each industry"
   ]
  },
  {
   "cell_type": "code",
   "execution_count": 20,
   "id": "d8b04ae7-7dac-4b3e-a18f-7c7d9086cfac",
   "metadata": {},
   "outputs": [],
   "source": [
    "metal_excess_returns = metal_prices.groupby(['Firm', 'Date'])['Daily Returns'].mean() - market_ret.set_index('Date')['Daily Returns']\n",
    "metal_excess_returns = metal_excess_returns.reset_index()\n",
    "metal_excess_returns = metal_excess_returns.rename(columns={'Daily Returns': 'Excess Returns'})"
   ]
  },
  {
   "cell_type": "code",
   "execution_count": 21,
   "id": "e63d0529-e03e-47a5-bf54-d14c833a4eb8",
   "metadata": {},
   "outputs": [],
   "source": [
    "energy_excess_returns = energy_prices.groupby(['Firm', 'Date'])['Daily Returns'].mean() - market_ret.set_index('Date')['Daily Returns']\n",
    "energy_excess_returns = energy_excess_returns.reset_index()\n",
    "energy_excess_returns = energy_excess_returns.rename(columns={'Daily Returns': 'Excess Returns'})"
   ]
  },
  {
   "cell_type": "code",
   "execution_count": 22,
   "id": "58b039ae-f24e-4bda-b3bc-1ebdfaa1ad57",
   "metadata": {},
   "outputs": [],
   "source": [
    "micro_excess_returns = micro_prices.groupby(['Firm', 'Date'])['Daily Returns'].mean() - market_ret.set_index('Date')['Daily Returns']\n",
    "micro_excess_returns = micro_excess_returns.reset_index()\n",
    "micro_excess_returns = micro_excess_returns.rename(columns={'Daily Returns': 'Excess Returns'})"
   ]
  },
  {
   "cell_type": "code",
   "execution_count": 23,
   "id": "182a1634-b6ff-4df1-b474-ddfed689b951",
   "metadata": {},
   "outputs": [],
   "source": [
    "trans_excess_returns = trans_prices.groupby(['Firm', 'Date'])['Daily Returns'].mean() - market_ret.set_index('Date')['Daily Returns']\n",
    "trans_excess_returns = trans_excess_returns.reset_index()\n",
    "trans_excess_returns = trans_excess_returns.rename(columns={'Daily Returns': 'Excess Returns'})"
   ]
  },
  {
   "cell_type": "code",
   "execution_count": 24,
   "id": "bf524d15-bf96-404b-b3cb-5190580a0a3d",
   "metadata": {},
   "outputs": [],
   "source": [
    "food_excess_returns = food_prices.groupby(['Firm', 'Date'])['Daily Returns'].mean() - market_ret.set_index('Date')['Daily Returns']\n",
    "food_excess_returns = food_excess_returns.reset_index()\n",
    "food_excess_returns = food_excess_returns.rename(columns={'Daily Returns': 'Excess Returns'})"
   ]
  },
  {
   "cell_type": "markdown",
   "id": "4fec59b2-ca1b-4398-aa70-933934503e3d",
   "metadata": {},
   "source": [
    "# Calculation of cumulative product/returns for each industry"
   ]
  },
  {
   "cell_type": "code",
   "execution_count": 25,
   "id": "69d1c19b-c0a4-45ab-a60f-b19b178e1662",
   "metadata": {},
   "outputs": [],
   "source": [
    "metal_cum = metal_excess_returns.assign(R=1+metal_excess_returns['Excess Returns']).assign(cumret = lambda x: x.groupby(['Firm'])['R'].cumprod()).groupby(['Date'])['cumret'].mean()"
   ]
  },
  {
   "cell_type": "code",
   "execution_count": 26,
   "id": "c57d778c-c8be-43a8-afff-a402291f49f8",
   "metadata": {},
   "outputs": [],
   "source": [
    "energy_cum = energy_excess_returns.assign(R=1+energy_excess_returns['Excess Returns']).assign(cumret = lambda x: x.groupby(['Firm'])['R'].cumprod()).groupby(['Date'])['cumret'].mean()"
   ]
  },
  {
   "cell_type": "code",
   "execution_count": 27,
   "id": "23a89859-7cb0-40f0-be81-5f350df051ef",
   "metadata": {},
   "outputs": [],
   "source": [
    "micro_cum = micro_excess_returns.assign(R=1+micro_excess_returns['Excess Returns']).assign(cumret = lambda x: x.groupby(['Firm'])['R'].cumprod()).groupby(['Date'])['cumret'].mean()"
   ]
  },
  {
   "cell_type": "code",
   "execution_count": 28,
   "id": "5f8c9ca3-64a2-441c-97bb-ccaa2320f0c8",
   "metadata": {},
   "outputs": [],
   "source": [
    "trans_cum = trans_excess_returns.assign(R=1+trans_excess_returns['Excess Returns']).assign(cumret = lambda x: x.groupby(['Firm'])['R'].cumprod()).groupby(['Date'])['cumret'].mean()"
   ]
  },
  {
   "cell_type": "code",
   "execution_count": 29,
   "id": "d8801d22-b9fa-44d3-9ceb-fffa92516f08",
   "metadata": {},
   "outputs": [],
   "source": [
    "food_cum = food_excess_returns.assign(R=1+food_excess_returns['Excess Returns']).assign(cumret = lambda x: x.groupby(['Firm'])['R'].cumprod()).groupby(['Date'])['cumret'].mean()"
   ]
  }
 ],
 "metadata": {
  "kernelspec": {
   "display_name": "Python 3 (ipykernel)",
   "language": "python",
   "name": "python3"
  },
  "language_info": {
   "codemirror_mode": {
    "name": "ipython",
    "version": 3
   },
   "file_extension": ".py",
   "mimetype": "text/x-python",
   "name": "python",
   "nbconvert_exporter": "python",
   "pygments_lexer": "ipython3",
   "version": "3.9.16"
  }
 },
 "nbformat": 4,
 "nbformat_minor": 5
}
