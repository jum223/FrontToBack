{
 "cells": [
  {
   "cell_type": "markdown",
   "id": "5c3a2611-06dd-4053-b069-41383934eb06",
   "metadata": {},
   "source": [
    "# Main Sample"
   ]
  },
  {
   "cell_type": "markdown",
   "id": "f00f82e9-4676-4250-8749-54349accf148",
   "metadata": {},
   "source": [
    "# Retrieving firms and creating firm list"
   ]
  },
  {
   "cell_type": "code",
   "execution_count": 1,
   "id": "291f8224-eda6-4cf5-8a4d-16568fd04256",
   "metadata": {},
   "outputs": [],
   "source": [
    "import pandas as pd\n",
    "import numpy as np\n",
    "import pandas_datareader as pdr\n",
    "import yfinance as yf\n",
    "from datetime import datetime"
   ]
  },
  {
   "cell_type": "code",
   "execution_count": 2,
   "id": "60560d91-edcc-476d-a80a-147a0486b982",
   "metadata": {},
   "outputs": [],
   "source": [
    "metal = pd.read_csv(\"Data/Metal.csv\")\n",
    "metal = metal.iloc[:17]\n",
    "metal = metal[[\"Company\", \"Ticker\"]]\n",
    "metal_firm = metal[\"Ticker\"].tolist()"
   ]
  },
  {
   "cell_type": "code",
   "execution_count": 3,
   "id": "00519b1c-b1eb-40ec-942f-aa9bae1c5dce",
   "metadata": {
    "tags": []
   },
   "outputs": [],
   "source": [
    "energy = pd.read_csv(\"Data/Energy.csv\")\n",
    "energy = energy[[\"HOLDINGS\", \"TICKER\"]]\n",
    "energy_firm = energy[\"TICKER\"].tolist()"
   ]
  },
  {
   "cell_type": "code",
   "execution_count": 4,
   "id": "ffbe54d9-bba2-4b33-a3e9-a89a8255cf16",
   "metadata": {},
   "outputs": [],
   "source": [
    "micro = pd.read_csv(\"Data/Microchips.csv\")\n",
    "micro = micro.iloc[:38]\n",
    "micro = micro[[\"Name\", \"Ticker\"]]\n",
    "micro_firm = micro[\"Ticker\"].tolist()"
   ]
  },
  {
   "cell_type": "code",
   "execution_count": 5,
   "id": "d44d8a94-3cb4-4b48-b0c1-80c6a26bcce9",
   "metadata": {},
   "outputs": [],
   "source": [
    "trans = pd.read_csv(\"Data/Transport.csv\")\n",
    "trans = trans.iloc[:47]\n",
    "trans = trans[[\"Name\", \"Ticker\"]]\n",
    "trans_firm = trans[\"Ticker\"].tolist()"
   ]
  },
  {
   "cell_type": "code",
   "execution_count": 6,
   "id": "2670f05a-6709-4e93-9f67-b4853b150b02",
   "metadata": {
    "tags": []
   },
   "outputs": [],
   "source": [
    "food = pd.read_csv(\"Data/Food.csv\")\n",
    "food = food[[\"SecurityName\", \"Identifier\"]]\n",
    "food_firm = food[\"Identifier\"].tolist()"
   ]
  },
  {
   "cell_type": "markdown",
   "id": "f4a5922b-9967-4195-be4b-f0338cbab823",
   "metadata": {},
   "source": [
    "# Downloading stock prices"
   ]
  },
  {
   "cell_type": "code",
   "execution_count": 7,
   "id": "b53cfedf-5e75-4440-89a6-96982bf4c9bf",
   "metadata": {},
   "outputs": [
    {
     "name": "stdout",
     "output_type": "stream",
     "text": [
      "[*********************100%***********************]  17 of 17 completed\n",
      "[*********************100%***********************]  112 of 112 completed\n",
      "[*********************100%***********************]  38 of 38 completed\n",
      "[*********************100%***********************]  47 of 47 completed\n",
      "[*********************100%***********************]  30 of 30 completed\n"
     ]
    }
   ],
   "source": [
    "start_date = datetime(2022, 2, 1)\n",
    "end_date = datetime(2023, 3, 10)\n",
    "\n",
    "\n",
    "metal_stocks = yf.download(metal_firm, start=start_date, end=end_date)\n",
    "energy_stocks = yf.download(energy_firm,start=start_date,end=end_date)\n",
    "micro_stocks = yf.download(micro_firm,start=start_date,end=end_date)\n",
    "trans_stocks = yf.download(trans_firm,start=start_date,end=end_date)\n",
    "food_stocks = yf.download(food_firm,start=start_date,end=end_date)"
   ]
  },
  {
   "cell_type": "markdown",
   "id": "54af3b77-e341-4d45-8be2-a68c31790727",
   "metadata": {},
   "source": [
    "# Cleaning stock data converting to table"
   ]
  },
  {
   "cell_type": "code",
   "execution_count": 8,
   "id": "cf17b28c-48e5-4ff1-a6be-de16d360a045",
   "metadata": {},
   "outputs": [],
   "source": [
    "metal_prices = metal_stocks.filter(like='Adj Close')               \n",
    "metal_prices.columns = metal_prices.columns.get_level_values(1)    \n",
    "metal_prices =  metal_prices.stack().swaplevel().sort_index().reset_index()\n",
    "metal_prices.columns = ['Firm','Date','Adj Close']"
   ]
  },
  {
   "cell_type": "code",
   "execution_count": 9,
   "id": "feedb090-5aab-4376-916d-f2674c3f51d7",
   "metadata": {},
   "outputs": [],
   "source": [
    "energy_prices = energy_stocks.filter(like='Adj Close')               \n",
    "energy_prices.columns = energy_prices.columns.get_level_values(1)    \n",
    "energy_prices =  energy_prices.stack().swaplevel().sort_index().reset_index()\n",
    "energy_prices.columns = ['Firm','Date','Adj Close']"
   ]
  },
  {
   "cell_type": "code",
   "execution_count": 10,
   "id": "6cc61da4-796b-4995-bdf1-3d5ad210ad06",
   "metadata": {},
   "outputs": [],
   "source": [
    "micro_prices = micro_stocks.filter(like='Adj Close')               \n",
    "micro_prices.columns = micro_prices.columns.get_level_values(1)    \n",
    "micro_prices =  micro_prices.stack().swaplevel().sort_index().reset_index()\n",
    "micro_prices.columns = ['Firm','Date','Adj Close']"
   ]
  },
  {
   "cell_type": "code",
   "execution_count": 11,
   "id": "b32d5ecd-cb84-4e8d-983f-a37528ae1245",
   "metadata": {},
   "outputs": [],
   "source": [
    "trans_prices = trans_stocks.filter(like='Adj Close')               \n",
    "trans_prices.columns = trans_prices.columns.get_level_values(1)    \n",
    "trans_prices =  trans_prices.stack().swaplevel().sort_index().reset_index()\n",
    "trans_prices.columns = ['Firm','Date','Adj Close']"
   ]
  },
  {
   "cell_type": "code",
   "execution_count": 12,
   "id": "14911911-c359-4909-b1b2-2f1533535ec2",
   "metadata": {},
   "outputs": [],
   "source": [
    "food_prices = food_stocks.filter(like='Adj Close')               \n",
    "food_prices.columns = food_prices.columns.get_level_values(1)    \n",
    "food_prices =  food_prices.stack().swaplevel().sort_index().reset_index()\n",
    "food_prices.columns = ['Firm','Date','Adj Close']"
   ]
  },
  {
   "cell_type": "markdown",
   "id": "3cbe8179-77b9-4d65-9ce1-a5ad305338d4",
   "metadata": {},
   "source": [
    "# Getting daily returns"
   ]
  },
  {
   "cell_type": "code",
   "execution_count": 13,
   "id": "2faf051a-9b8a-4079-a6f7-275afc2ca41b",
   "metadata": {},
   "outputs": [],
   "source": [
    "metal_prices = metal_prices.sort_values(['Firm', 'Date'])\n",
    "metal_prices['Daily Returns'] = metal_prices.groupby('Firm')['Adj Close'].pct_change()"
   ]
  },
  {
   "cell_type": "code",
   "execution_count": 14,
   "id": "ed08f1ad-add9-4019-bcb2-4ed30b3959a2",
   "metadata": {},
   "outputs": [],
   "source": [
    "energy_prices = energy_prices.sort_values(['Firm', 'Date'])\n",
    "energy_prices['Daily Returns'] = energy_prices.groupby('Firm')['Adj Close'].pct_change()"
   ]
  },
  {
   "cell_type": "code",
   "execution_count": 15,
   "id": "6fe1bf20-c4b7-44d3-803a-38b4d6caaf83",
   "metadata": {},
   "outputs": [],
   "source": [
    "micro_prices = micro_prices.sort_values(['Firm', 'Date'])\n",
    "micro_prices['Daily Returns'] = micro_prices.groupby('Firm')['Adj Close'].pct_change()"
   ]
  },
  {
   "cell_type": "code",
   "execution_count": 16,
   "id": "960160eb-6eb2-4bc3-bf1a-35512caad93c",
   "metadata": {},
   "outputs": [],
   "source": [
    "trans_prices = trans_prices.sort_values(['Firm', 'Date'])\n",
    "trans_prices['Daily Returns'] = trans_prices.groupby('Firm')['Adj Close'].pct_change()"
   ]
  },
  {
   "cell_type": "code",
   "execution_count": 17,
   "id": "99129130-331f-4055-9a0c-18d09ac562dc",
   "metadata": {},
   "outputs": [],
   "source": [
    "food_prices = food_prices.sort_values(['Firm', 'Date'])\n",
    "food_prices['Daily Returns'] = food_prices.groupby('Firm')['Adj Close'].pct_change()"
   ]
  }
 ],
 "metadata": {
  "kernelspec": {
   "display_name": "Python 3 (ipykernel)",
   "language": "python",
   "name": "python3"
  },
  "language_info": {
   "codemirror_mode": {
    "name": "ipython",
    "version": 3
   },
   "file_extension": ".py",
   "mimetype": "text/x-python",
   "name": "python",
   "nbconvert_exporter": "python",
   "pygments_lexer": "ipython3",
   "version": "3.9.16"
  }
 },
 "nbformat": 4,
 "nbformat_minor": 5
}
