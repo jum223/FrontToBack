{
 "cells": [
  {
   "cell_type": "markdown",
   "id": "5c3a2611-06dd-4053-b069-41383934eb06",
   "metadata": {},
   "source": [
    "# This is my sample .ipynb file!\n",
    "This could be your analyses files, your visualization files, etc."
   ]
  },
  {
   "cell_type": "code",
   "execution_count": 1,
   "id": "291f8224-eda6-4cf5-8a4d-16568fd04256",
   "metadata": {},
   "outputs": [],
   "source": [
    "import pandas as pd\n",
    "import numpy as np\n",
    "import pandas_datareader as pdr\n",
    "import yfinance as yf\n",
    "from datetime import datetime"
   ]
  },
  {
   "cell_type": "code",
   "execution_count": 2,
   "id": "60560d91-edcc-476d-a80a-147a0486b982",
   "metadata": {},
   "outputs": [],
   "source": [
    "metal = pd.read_csv(\"Data/Metal.csv\")\n",
    "metal = metal.iloc[:17]\n",
    "metal = metal[[\"Company\", \"Ticker\"]]\n",
    "metal_firm = metal[\"Ticker\"].tolist()"
   ]
  },
  {
   "cell_type": "code",
   "execution_count": 3,
   "id": "00519b1c-b1eb-40ec-942f-aa9bae1c5dce",
   "metadata": {
    "tags": []
   },
   "outputs": [],
   "source": [
    "energy = pd.read_csv(\"Data/Energy.csv\")\n",
    "energy = energy[[\"HOLDINGS\", \"TICKER\"]]\n",
    "energy_firm = energy[\"TICKER\"].tolist()"
   ]
  },
  {
   "cell_type": "code",
   "execution_count": 4,
   "id": "ffbe54d9-bba2-4b33-a3e9-a89a8255cf16",
   "metadata": {},
   "outputs": [],
   "source": [
    "micro = pd.read_csv(\"Data/Microchips.csv\")\n",
    "micro = micro.iloc[:38]\n",
    "micro = micro[[\"Name\", \"Ticker\"]]\n",
    "micro_firm = micro[\"Ticker\"].tolist()"
   ]
  },
  {
   "cell_type": "code",
   "execution_count": 5,
   "id": "d44d8a94-3cb4-4b48-b0c1-80c6a26bcce9",
   "metadata": {},
   "outputs": [],
   "source": [
    "trans = pd.read_csv(\"Data/Transport.csv\")\n",
    "trans = trans.iloc[:47]\n",
    "trans = trans[[\"Name\", \"Ticker\"]]\n",
    "trans_firm = trans[\"Ticker\"].tolist()"
   ]
  },
  {
   "cell_type": "code",
   "execution_count": 6,
   "id": "2670f05a-6709-4e93-9f67-b4853b150b02",
   "metadata": {
    "tags": []
   },
   "outputs": [],
   "source": [
    "food = pd.read_csv(\"Data/Food.csv\")\n",
    "food = food[[\"SecurityName\", \"Identifier\"]]\n",
    "food_firm = food[\"Identifier\"].tolist()"
   ]
  },
  {
   "cell_type": "code",
   "execution_count": 7,
   "id": "b53cfedf-5e75-4440-89a6-96982bf4c9bf",
   "metadata": {},
   "outputs": [
    {
     "name": "stdout",
     "output_type": "stream",
     "text": [
      "[*********************100%***********************]  17 of 17 completed\n",
      "\n",
      "1 Failed download:\n",
      "- MTL: No timezone found, symbol may be delisted\n",
      "[*********************100%***********************]  112 of 112 completed\n",
      "[*********************100%***********************]  38 of 38 completed\n",
      "[*********************100%***********************]  47 of 47 completed\n",
      "[*********************100%***********************]  30 of 30 completed\n"
     ]
    }
   ],
   "source": [
    "start_date = datetime(2022, 2, 1)\n",
    "end_date = datetime(2023, 3, 10)\n",
    "\n",
    "\n",
    "metal_stocks = yf.download(metal_firm, start=start_date, end=end_date)\n",
    "energy_stocks = yf.download(energy_firm,start=start_date,end=end_date)\n",
    "micro_stocks = yf.download(micro_firm,start=start_date,end=end_date)\n",
    "trans_stocks = yf.download(trans_firm,start=start_date,end=end_date)\n",
    "food_stocks = yf.download(food_firm,start=start_date,end=end_date)"
   ]
  },
  {
   "cell_type": "code",
   "execution_count": null,
   "id": "cf17b28c-48e5-4ff1-a6be-de16d360a045",
   "metadata": {},
   "outputs": [],
   "source": []
  }
 ],
 "metadata": {
  "kernelspec": {
   "display_name": "Python 3 (ipykernel)",
   "language": "python",
   "name": "python3"
  },
  "language_info": {
   "codemirror_mode": {
    "name": "ipython",
    "version": 3
   },
   "file_extension": ".py",
   "mimetype": "text/x-python",
   "name": "python",
   "nbconvert_exporter": "python",
   "pygments_lexer": "ipython3",
   "version": "3.9.16"
  }
 },
 "nbformat": 4,
 "nbformat_minor": 5
}
