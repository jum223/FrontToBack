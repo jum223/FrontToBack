{
 "cells": [
  {
   "cell_type": "markdown",
   "id": "76e8acfc-17d4-4aff-89b1-ba743d2811ee",
   "metadata": {},
   "source": [
    "# This file downloads and creates an intermediary dataset prior to the final version which will be used in our analysis"
   ]
  },
  {
   "cell_type": "markdown",
   "id": "9a3bb797-38a8-44b4-9568-72969cfb7598",
   "metadata": {},
   "source": [
    "### Necessary Imports"
   ]
  },
  {
   "cell_type": "code",
   "execution_count": 1,
   "id": "a556dd3c-ea5f-4252-9e30-b41256a9e437",
   "metadata": {},
   "outputs": [],
   "source": [
    "import pandas as pd\n",
    "import numpy as np\n",
    "import pandas_datareader as pdr\n",
    "import yfinance as yf\n",
    "from datetime import datetime\n",
    "import seaborn as sns\n",
    "import matplotlib.pyplot as plt\n",
    "from datetime import timedelta\n",
    "import matplotlib.ticker as mtick\n",
    "import matplotlib.dates as mpl_dates\n",
    "\n",
    "import warnings\n",
    "warnings.filterwarnings(\"ignore\")"
   ]
  },
  {
   "cell_type": "markdown",
   "id": "86a1c226-4a80-403e-ad9c-204a147dac17",
   "metadata": {},
   "source": [
    "### Loading List of Firms by Industry"
   ]
  },
  {
   "cell_type": "code",
   "execution_count": null,
   "id": "c4235ce7-36ca-46ef-b0b9-135d610e926e",
   "metadata": {},
   "outputs": [],
   "source": [
    "metal = pd.read_csv(\"InputData/Metal.csv\")\n",
    "metal = metal.iloc[:17]\n",
    "metal = metal[[\"Company\", \"Ticker\"]]\n",
    "metal_firm = metal[\"Ticker\"].tolist()\n",
    "\n",
    "energy = pd.read_csv(\"InputData/Energy.csv\")\n",
    "energy = energy[[\"HOLDINGS\", \"TICKER\"]]\n",
    "energy_firm = energy[\"TICKER\"].tolist()\n",
    "\n",
    "semi = pd.read_csv(\"InputData/Microchips.csv\")\n",
    "semi = semi.iloc[:38]\n",
    "semi = semi[[\"Name\", \"Ticker\"]]\n",
    "semi_firm = semi[\"Ticker\"].tolist()\n",
    "\n",
    "trans = pd.read_csv(\"InputData/Transport.csv\")\n",
    "trans = trans.iloc[:47]\n",
    "trans = trans[[\"Name\", \"Ticker\"]]\n",
    "trans_firm = trans[\"Ticker\"].tolist()\n",
    "\n",
    "food = pd.read_csv(\"InputData/Food.csv\")\n",
    "food = food[[\"SecurityName\", \"Identifier\"]]\n",
    "food_firm = food[\"Identifier\"].tolist()"
   ]
  },
  {
   "cell_type": "markdown",
   "id": "fc135869-6316-44ea-bcb2-0985ee8fdb0e",
   "metadata": {},
   "source": [
    "### Downloading stock prices for selected firms"
   ]
  },
  {
   "cell_type": "code",
   "execution_count": null,
   "id": "61505ee7-9d9f-4aeb-ab5f-921c80c26091",
   "metadata": {},
   "outputs": [],
   "source": [
    "start_date = datetime(2022, 2, 1)\n",
    "end_date = datetime(2023, 4, 10)\n",
    "\n",
    "\n",
    "metal_stocks = yf.download(metal_firm, start=start_date, end=end_date)\n",
    "energy_stocks = yf.download(energy_firm,start=start_date,end=end_date)\n",
    "semi_stocks = yf.download(semi_firm,start=start_date,end=end_date)\n",
    "trans_stocks = yf.download(trans_firm,start=start_date,end=end_date)\n",
    "food_stocks = yf.download(food_firm,start=start_date,end=end_date)"
   ]
  },
  {
   "cell_type": "markdown",
   "id": "3be239ff-9295-4ce1-8256-120505e52c5b",
   "metadata": {},
   "source": [
    "### Cleaning Stock Data"
   ]
  },
  {
   "cell_type": "code",
   "execution_count": null,
   "id": "fda635c7-d211-45be-adca-e3dbda4f1af9",
   "metadata": {},
   "outputs": [],
   "source": [
    "metal_prices = metal_stocks.filter(like='Adj Close')               \n",
    "metal_prices.columns = metal_prices.columns.get_level_values(1)    \n",
    "metal_prices =  metal_prices.stack().swaplevel().sort_index().reset_index()\n",
    "metal_prices.columns = ['Firm','Date','Adj Close']\n",
    "\n",
    "energy_prices = energy_stocks.filter(like='Adj Close')               \n",
    "energy_prices.columns = energy_prices.columns.get_level_values(1)    \n",
    "energy_prices =  energy_prices.stack().swaplevel().sort_index().reset_index()\n",
    "energy_prices.columns = ['Firm','Date','Adj Close']\n",
    "\n",
    "semi_prices = semi_stocks.filter(like='Adj Close')               \n",
    "semi_prices.columns = semi_prices.columns.get_level_values(1)    \n",
    "semi_prices =  semi_prices.stack().swaplevel().sort_index().reset_index()\n",
    "semi_prices.columns = ['Firm','Date','Adj Close']\n",
    "\n",
    "trans_prices = trans_stocks.filter(like='Adj Close')               \n",
    "trans_prices.columns = trans_prices.columns.get_level_values(1)    \n",
    "trans_prices =  trans_prices.stack().swaplevel().sort_index().reset_index()\n",
    "trans_prices.columns = ['Firm','Date','Adj Close']\n",
    "\n",
    "food_prices = food_stocks.filter(like='Adj Close')               \n",
    "food_prices.columns = food_prices.columns.get_level_values(1)    \n",
    "food_prices =  food_prices.stack().swaplevel().sort_index().reset_index()\n",
    "food_prices.columns = ['Firm','Date','Adj Close']"
   ]
  },
  {
   "cell_type": "markdown",
   "id": "98917b85-31ce-4099-b395-f06f7025e226",
   "metadata": {},
   "source": [
    "### Downloading and cleaning SP500 Returns (Market Returns)"
   ]
  },
  {
   "cell_type": "code",
   "execution_count": null,
   "id": "db087a7c-9c83-47da-a7af-e7f14e18e483",
   "metadata": {},
   "outputs": [],
   "source": [
    "spy = yf.download('^GSPC', start=start_date, end=end_date)\n",
    "market_ret = spy.filter(like='Adj Close')               \n",
    "market_ret = market_ret.stack().swaplevel().sort_index().reset_index()\n",
    "market_ret.columns = ['Firm','Date','Adj Close']\n",
    "market_ret['Firm'] = \"sp500\"\n",
    "market_ret['Daily Returns'] = market_ret['Adj Close'].pct_change()"
   ]
  },
  {
   "cell_type": "markdown",
   "id": "36a17e84-6447-417a-96ff-5eda487b37a2",
   "metadata": {},
   "source": [
    "### Loading Data of Major Events in the War\n",
    "Created manually based on [cnn timeline](https://www.cnn.com/interactive/2023/02/europe/russia-ukraine-war-timeline/index.html)"
   ]
  },
  {
   "cell_type": "code",
   "execution_count": null,
   "id": "2b13095d-300f-4051-acd7-054b1c90b172",
   "metadata": {},
   "outputs": [],
   "source": [
    "event_dates = pd.read_csv(\"InputData/MajorEvents.csv\")\n",
    "event_dates['Date'] = pd.to_datetime(event_dates['Date'])"
   ]
  },
  {
   "cell_type": "markdown",
   "id": "a83343e5-ea84-4988-adb4-e52a53ca8910",
   "metadata": {},
   "source": [
    "### Calculation of Daily Returns"
   ]
  },
  {
   "cell_type": "code",
   "execution_count": 17,
   "id": "31c71897-3e2b-473e-9dc9-5034c4f5133c",
   "metadata": {},
   "outputs": [],
   "source": [
    "metal_prices = metal_prices.sort_values(['Firm', 'Date'])\n",
    "metal_prices['Daily Returns'] = metal_prices.groupby('Firm')['Adj Close'].pct_change()\n",
    "\n",
    "energy_prices = energy_prices.sort_values(['Firm', 'Date'])\n",
    "energy_prices['Daily Returns'] = energy_prices.groupby('Firm')['Adj Close'].pct_change()\n",
    "\n",
    "semi_prices = semi_prices.sort_values(['Firm', 'Date'])\n",
    "semi_prices['Daily Returns'] = semi_prices.groupby('Firm')['Adj Close'].pct_change()\n",
    "\n",
    "trans_prices = trans_prices.sort_values(['Firm', 'Date'])\n",
    "trans_prices['Daily Returns'] = trans_prices.groupby('Firm')['Adj Close'].pct_change()\n",
    "\n",
    "food_prices = food_prices.sort_values(['Firm', 'Date'])\n",
    "food_prices['Daily Returns'] = food_prices.groupby('Firm')['Adj Close'].pct_change()"
   ]
  },
  {
   "cell_type": "markdown",
   "id": "c5b5a2e5-10e1-41a9-9cb3-309a08bbb1fd",
   "metadata": {},
   "source": [
    "### Calculation of Excess Returns"
   ]
  },
  {
   "cell_type": "code",
   "execution_count": 20,
   "id": "148c0c74-6cfc-48cd-9e46-2db006423ce7",
   "metadata": {},
   "outputs": [],
   "source": [
    "metal_excess_returns = metal_prices.groupby(['Firm', 'Date'])['Daily Returns'].mean() - market_ret.set_index('Date')['Daily Returns']\n",
    "metal_excess_returns = metal_excess_returns.reset_index()\n",
    "metal_excess_returns = metal_excess_returns.rename(columns={'Daily Returns': 'Excess Returns'})\n",
    "metal_excess_returns[\"Industry\"] = \"Metal\"\n",
    "\n",
    "energy_excess_returns = energy_prices.groupby(['Firm', 'Date'])['Daily Returns'].mean() - market_ret.set_index('Date')['Daily Returns']\n",
    "energy_excess_returns = energy_excess_returns.reset_index()\n",
    "energy_excess_returns = energy_excess_returns.rename(columns={'Daily Returns': 'Excess Returns'})\n",
    "energy_excess_returns[\"Industry\"] = \"Energy\"\n",
    "\n",
    "semi_excess_returns = semi_prices.groupby(['Firm', 'Date'])['Daily Returns'].mean() - market_ret.set_index('Date')['Daily Returns']\n",
    "semi_excess_returns = semi_excess_returns.reset_index()\n",
    "semi_excess_returns = semi_excess_returns.rename(columns={'Daily Returns': 'Excess Returns'})\n",
    "semi_excess_returns[\"Industry\"] = \"Semiconductor\"\n",
    "\n",
    "trans_excess_returns = trans_prices.groupby(['Firm', 'Date'])['Daily Returns'].mean() - market_ret.set_index('Date')['Daily Returns']\n",
    "trans_excess_returns = trans_excess_returns.reset_index()\n",
    "trans_excess_returns = trans_excess_returns.rename(columns={'Daily Returns': 'Excess Returns'})\n",
    "trans_excess_returns[\"Industry\"] = \"Transport\"\n",
    "\n",
    "food_excess_returns = food_prices.groupby(['Firm', 'Date'])['Daily Returns'].mean() - market_ret.set_index('Date')['Daily Returns']\n",
    "food_excess_returns = food_excess_returns.reset_index()\n",
    "food_excess_returns = food_excess_returns.rename(columns={'Daily Returns': 'Excess Returns'})\n",
    "food_excess_returns[\"Industry\"] = \"Food\""
   ]
  },
  {
   "cell_type": "markdown",
   "id": "07b6a992-b95c-4f6e-9afd-2d5eb8696c98",
   "metadata": {},
   "source": [
    "### Concatenating all industry datasets and saving the resulting dataset"
   ]
  },
  {
   "cell_type": "code",
   "execution_count": null,
   "id": "457aa6b7-d777-47fe-9c53-a3cc0511e77f",
   "metadata": {},
   "outputs": [],
   "source": [
    "# Concatenate dataframes vertically\n",
    "big_df = pd.concat([food_excess_returns, trans_excess_returns, semi_excess_returns, energy_excess_returns, metal_excess_returns])\n",
    "big_df = big_df.reset_index(drop=True)\n",
    "big_df.to_csv(\"OutputData/inter.csv\")"
   ]
  }
 ],
 "metadata": {
  "kernelspec": {
   "display_name": "Python 3 (ipykernel)",
   "language": "python",
   "name": "python3"
  },
  "language_info": {
   "codemirror_mode": {
    "name": "ipython",
    "version": 3
   },
   "file_extension": ".py",
   "mimetype": "text/x-python",
   "name": "python",
   "nbconvert_exporter": "python",
   "pygments_lexer": "ipython3",
   "version": "3.9.15"
  }
 },
 "nbformat": 4,
 "nbformat_minor": 5
}
