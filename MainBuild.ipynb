{
 "cells": [
  {
   "cell_type": "markdown",
   "id": "fca581b9-49b4-489b-94a1-debf8b83c788",
   "metadata": {},
   "source": [
    "# This file loads thcreates an intermediary dataset prior to the final version which will be used in our analysis"
   ]
  }
 ],
 "metadata": {
  "kernelspec": {
   "display_name": "Python 3 (ipykernel)",
   "language": "python",
   "name": "python3"
  },
  "language_info": {
   "codemirror_mode": {
    "name": "ipython",
    "version": 3
   },
   "file_extension": ".py",
   "mimetype": "text/x-python",
   "name": "python",
   "nbconvert_exporter": "python",
   "pygments_lexer": "ipython3",
   "version": "3.9.15"
  }
 },
 "nbformat": 4,
 "nbformat_minor": 5
}
